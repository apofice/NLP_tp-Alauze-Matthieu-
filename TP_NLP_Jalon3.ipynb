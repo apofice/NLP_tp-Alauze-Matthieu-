{
  "nbformat": 4,
  "nbformat_minor": 0,
  "metadata": {
    "colab": {
      "provenance": []
    },
    "kernelspec": {
      "name": "python3",
      "display_name": "Python 3"
    },
    "language_info": {
      "name": "python"
    }
  },
  "cells": [
    {
      "cell_type": "markdown",
      "source": [
        "# Test du modèle\n",
        "\n"
      ],
      "metadata": {
        "id": "XGbvUqHlmD3L"
      }
    },
    {
      "cell_type": "markdown",
      "source": [
        "On importe et on charge le model "
      ],
      "metadata": {
        "id": "HX07Ku-6vj2m"
      }
    },
    {
      "cell_type": "code",
      "execution_count": 6,
      "metadata": {
        "colab": {
          "base_uri": "https://localhost:8080/"
        },
        "id": "WYTjkh4skq3F",
        "outputId": "369ab47f-a603-4d7e-8543-9b308b0184f2"
      },
      "outputs": [
        {
          "output_type": "execute_result",
          "data": {
            "text/plain": [
              "(NMF(n_components=15), TfidfVectorizer(max_df=0.8, min_df=0.008))"
            ]
          },
          "metadata": {},
          "execution_count": 6
        }
      ],
      "source": [
        "import pandas as pd\n",
        "\n",
        "import pickle\n",
        "from pickle import *\n",
        "\n",
        "\n",
        "\n",
        "def extractionPkl():\n",
        "\n",
        "  file1=open('/content/drive/MyDrive/tpNltk/nmf_model.pkl', 'rb') \n",
        "  file2=open('/content/drive/MyDrive/tpNltk/nmf_vectorizer.pkl','rb')\n",
        "    \n",
        "  return load(file1) ,load(file2)\n",
        "\n",
        "\n",
        "\n",
        "extractionPkl()"
      ]
    },
    {
      "cell_type": "markdown",
      "source": [
        "On applique une fonction de prédiction du model"
      ],
      "metadata": {
        "id": "FL0PvQmlvi5-"
      }
    },
    {
      "cell_type": "code",
      "source": [
        "from types import new_class\n",
        "import textblob \n",
        "from textblob import *\n",
        "import numpy as np\n",
        "\n",
        "\n",
        "def prediction(model,vectorizer,n_topic,new_reviews):\n",
        "  blob=TextBlob(new_reviews)\n",
        "  sentimentBlob=blob.sentiment.polarity\n",
        "  new_reviews = [new_reviews]\n",
        "  new_reviews_transformed=vectorizer.transform(new_reviews)\n",
        "\n",
        "  prediction= model.transform(new_reviews_transformed)\n",
        " \n",
        "  topics=['qualité service bar','qualité sauce ','Prix abordable','temps d arriver','garniture pizza','qualité nourriture restaurant','qualiter service','plat mexicain','ordre service','hestetique du lieux','organisation manager','menu poulet frit','sandwitch','burger','temp attente']\n",
        "  if sentimentBlob<0 and sentimentBlob>-1:\n",
        " \n",
        "    max = np.argsort(prediction)\n",
        "    max_list=(list(max[0]))\n",
        "    max_list.reverse()\n",
        "    print(max_list)\n",
        "    topic=[]\n",
        "    for i in range(n_topic):\n",
        "      topic.append(topics[max_list[i]])  \n",
        "    return sentimentBlob,prediction,topic\n",
        "\n",
        "  return sentimentBlob\n",
        "new_reviews = \"I dont like chicken \"\n",
        "prediction(extractionPkl()[0],extractionPkl()[1],2,new_reviews)[2]\n"
      ],
      "metadata": {
        "colab": {
          "base_uri": "https://localhost:8080/"
        },
        "id": "DBYNVk58vwjp",
        "outputId": "36c519c0-f86f-42b6-9e7e-efe56c265a8e"
      },
      "execution_count": 105,
      "outputs": [
        {
          "output_type": "stream",
          "name": "stdout",
          "text": [
            "[8, 0, 14, 13, 12, 11, 10, 9, 7, 6, 5, 4, 3, 2, 1]\n"
          ]
        },
        {
          "output_type": "execute_result",
          "data": {
            "text/plain": [
              "['ordre service', 'qualité service bar']"
            ]
          },
          "metadata": {},
          "execution_count": 105
        }
      ]
    },
    {
      "cell_type": "code",
      "source": [],
      "metadata": {
        "id": "l3s1F9EOLA5J"
      },
      "execution_count": 100,
      "outputs": []
    },
    {
      "cell_type": "code",
      "source": [
        "#streamlit\n",
        "\n",
        "#!pip install streamlit\n",
        "import streamlit as st\n",
        "import pandas as pd\n",
        "import numpy as np\n",
        "\n",
        "\n",
        "# Presentation de l'application\n",
        "\n",
        "st.title('Application : RevieWAnalyzer')\n",
        "\n",
        "monlabel = \"Quel texte analyser ? \"\n",
        "options = pd.DataFrame(['Avis dataset', 'Texte libre'])\n",
        "\n",
        "st.number_input(label= \"Le nombre de topics\", min_value=0, max_value=15)\n",
        "\n",
        "if st.button(label = \"Détecter le sujet d'insatisfaction\") == True:\n",
        "    prediction(model, vectorizer, n_topics, text)\n",
        "\n",
        "\n",
        "with st.sidebar:\n",
        "        st.radio(monlabel, options)\n",
        "        st.text_input(label=\"Donnez nous votre avis\")\n",
        "\n",
        "!streamlit run /content/drive/MyDrive/Colab Notebooks/TP_NLP_Jalon3.ipynb"
      ],
      "metadata": {
        "colab": {
          "base_uri": "https://localhost:8080/"
        },
        "id": "gE2vZNqU9E91",
        "outputId": "104bdfa7-32b5-43f3-ae38-ce5df4f1b57f"
      },
      "execution_count": 103,
      "outputs": [
        {
          "output_type": "stream",
          "name": "stdout",
          "text": [
            "Usage: streamlit run [OPTIONS] TARGET [ARGS]...\n",
            "\n",
            "Error: Streamlit requires raw Python (.py) files, but the provided file has no extension.\n",
            "For more information, please see https://docs.streamlit.io\n"
          ]
        }
      ]
    }
  ]
}